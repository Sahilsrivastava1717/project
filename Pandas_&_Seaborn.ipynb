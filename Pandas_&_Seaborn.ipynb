{
  "cells": [
    {
      "cell_type": "markdown",
      "metadata": {
        "id": "view-in-github",
        "colab_type": "text"
      },
      "source": [
        "<a href=\"https://colab.research.google.com/github/Sahilsrivastava1717/project/blob/main/Pandas_%26_Seaborn.ipynb\" target=\"_parent\"><img src=\"https://colab.research.google.com/assets/colab-badge.svg\" alt=\"Open In Colab\"/></a>"
      ]
    },
    {
      "cell_type": "code",
      "execution_count": null,
      "id": "cee3528b-0e09-44d4-b9ee-1bf3bb221972",
      "metadata": {
        "id": "cee3528b-0e09-44d4-b9ee-1bf3bb221972"
      },
      "outputs": [],
      "source": [
        "import pandas as pd"
      ]
    },
    {
      "cell_type": "code",
      "execution_count": null,
      "id": "dad1bdf0-94bb-4d55-a114-b8ac34963907",
      "metadata": {
        "id": "dad1bdf0-94bb-4d55-a114-b8ac34963907"
      },
      "outputs": [],
      "source": [
        "df=pd.read_csv(r\"C:\\Users\\dolas\\Downloads\\data.csv\")"
      ]
    },
    {
      "cell_type": "code",
      "execution_count": null,
      "id": "b3bfe24f-8b59-44d1-bed6-eb84da7a0237",
      "metadata": {
        "id": "b3bfe24f-8b59-44d1-bed6-eb84da7a0237",
        "outputId": "7d472627-6ed7-4756-a1e6-731e273423d4"
      },
      "outputs": [
        {
          "data": {
            "text/html": [
              "<div>\n",
              "<style scoped>\n",
              "    .dataframe tbody tr th:only-of-type {\n",
              "        vertical-align: middle;\n",
              "    }\n",
              "\n",
              "    .dataframe tbody tr th {\n",
              "        vertical-align: top;\n",
              "    }\n",
              "\n",
              "    .dataframe thead th {\n",
              "        text-align: right;\n",
              "    }\n",
              "</style>\n",
              "<table border=\"1\" class=\"dataframe\">\n",
              "  <thead>\n",
              "    <tr style=\"text-align: right;\">\n",
              "      <th></th>\n",
              "      <th>CountryName</th>\n",
              "      <th>CountryCode</th>\n",
              "      <th>BirthRate</th>\n",
              "      <th>InternetUsers</th>\n",
              "      <th>IncomeGroup</th>\n",
              "    </tr>\n",
              "  </thead>\n",
              "  <tbody>\n",
              "    <tr>\n",
              "      <th>0</th>\n",
              "      <td>Aruba</td>\n",
              "      <td>ABW</td>\n",
              "      <td>10.244</td>\n",
              "      <td>78.9</td>\n",
              "      <td>High income</td>\n",
              "    </tr>\n",
              "    <tr>\n",
              "      <th>1</th>\n",
              "      <td>Afghanistan</td>\n",
              "      <td>AFG</td>\n",
              "      <td>35.253</td>\n",
              "      <td>5.9</td>\n",
              "      <td>Low income</td>\n",
              "    </tr>\n",
              "    <tr>\n",
              "      <th>2</th>\n",
              "      <td>Angola</td>\n",
              "      <td>AGO</td>\n",
              "      <td>45.985</td>\n",
              "      <td>19.1</td>\n",
              "      <td>Upper middle income</td>\n",
              "    </tr>\n",
              "    <tr>\n",
              "      <th>3</th>\n",
              "      <td>Albania</td>\n",
              "      <td>ALB</td>\n",
              "      <td>12.877</td>\n",
              "      <td>57.2</td>\n",
              "      <td>Upper middle income</td>\n",
              "    </tr>\n",
              "    <tr>\n",
              "      <th>4</th>\n",
              "      <td>United Arab Emirates</td>\n",
              "      <td>ARE</td>\n",
              "      <td>11.044</td>\n",
              "      <td>88.0</td>\n",
              "      <td>High income</td>\n",
              "    </tr>\n",
              "    <tr>\n",
              "      <th>...</th>\n",
              "      <td>...</td>\n",
              "      <td>...</td>\n",
              "      <td>...</td>\n",
              "      <td>...</td>\n",
              "      <td>...</td>\n",
              "    </tr>\n",
              "    <tr>\n",
              "      <th>190</th>\n",
              "      <td>Yemen, Rep.</td>\n",
              "      <td>YEM</td>\n",
              "      <td>32.947</td>\n",
              "      <td>20.0</td>\n",
              "      <td>Lower middle income</td>\n",
              "    </tr>\n",
              "    <tr>\n",
              "      <th>191</th>\n",
              "      <td>South Africa</td>\n",
              "      <td>ZAF</td>\n",
              "      <td>20.850</td>\n",
              "      <td>46.5</td>\n",
              "      <td>Upper middle income</td>\n",
              "    </tr>\n",
              "    <tr>\n",
              "      <th>192</th>\n",
              "      <td>Congo, Dem. Rep.</td>\n",
              "      <td>COD</td>\n",
              "      <td>42.394</td>\n",
              "      <td>2.2</td>\n",
              "      <td>Low income</td>\n",
              "    </tr>\n",
              "    <tr>\n",
              "      <th>193</th>\n",
              "      <td>Zambia</td>\n",
              "      <td>ZMB</td>\n",
              "      <td>40.471</td>\n",
              "      <td>15.4</td>\n",
              "      <td>Lower middle income</td>\n",
              "    </tr>\n",
              "    <tr>\n",
              "      <th>194</th>\n",
              "      <td>Zimbabwe</td>\n",
              "      <td>ZWE</td>\n",
              "      <td>35.715</td>\n",
              "      <td>18.5</td>\n",
              "      <td>Low income</td>\n",
              "    </tr>\n",
              "  </tbody>\n",
              "</table>\n",
              "<p>195 rows × 5 columns</p>\n",
              "</div>"
            ],
            "text/plain": [
              "              CountryName CountryCode  BirthRate  InternetUsers  \\\n",
              "0                   Aruba         ABW     10.244           78.9   \n",
              "1             Afghanistan         AFG     35.253            5.9   \n",
              "2                  Angola         AGO     45.985           19.1   \n",
              "3                 Albania         ALB     12.877           57.2   \n",
              "4    United Arab Emirates         ARE     11.044           88.0   \n",
              "..                    ...         ...        ...            ...   \n",
              "190           Yemen, Rep.         YEM     32.947           20.0   \n",
              "191          South Africa         ZAF     20.850           46.5   \n",
              "192      Congo, Dem. Rep.         COD     42.394            2.2   \n",
              "193                Zambia         ZMB     40.471           15.4   \n",
              "194              Zimbabwe         ZWE     35.715           18.5   \n",
              "\n",
              "             IncomeGroup  \n",
              "0            High income  \n",
              "1             Low income  \n",
              "2    Upper middle income  \n",
              "3    Upper middle income  \n",
              "4            High income  \n",
              "..                   ...  \n",
              "190  Lower middle income  \n",
              "191  Upper middle income  \n",
              "192           Low income  \n",
              "193  Lower middle income  \n",
              "194           Low income  \n",
              "\n",
              "[195 rows x 5 columns]"
            ]
          },
          "execution_count": 3,
          "metadata": {},
          "output_type": "execute_result"
        }
      ],
      "source": [
        "df"
      ]
    },
    {
      "cell_type": "code",
      "execution_count": null,
      "id": "51ccc03f-eaf3-43d8-b915-dc072b7b06f3",
      "metadata": {
        "id": "51ccc03f-eaf3-43d8-b915-dc072b7b06f3",
        "outputId": "705e3148-5913-4bde-fe58-d9a42df807fc"
      },
      "outputs": [
        {
          "data": {
            "text/plain": [
              "'2.2.3'"
            ]
          },
          "execution_count": 4,
          "metadata": {},
          "output_type": "execute_result"
        }
      ],
      "source": [
        "pd.__version__"
      ]
    },
    {
      "cell_type": "code",
      "execution_count": null,
      "id": "0cacf5f0-22b8-4ff2-8f62-db260f49bc97",
      "metadata": {
        "id": "0cacf5f0-22b8-4ff2-8f62-db260f49bc97",
        "outputId": "96cdf3eb-8d4e-48e2-b909-f47abe300038"
      },
      "outputs": [
        {
          "data": {
            "text/plain": [
              "(195, 5)"
            ]
          },
          "execution_count": 5,
          "metadata": {},
          "output_type": "execute_result"
        }
      ],
      "source": [
        "df.shape"
      ]
    },
    {
      "cell_type": "code",
      "execution_count": null,
      "id": "185f9175-41c2-4052-89e2-437e27c63038",
      "metadata": {
        "id": "185f9175-41c2-4052-89e2-437e27c63038",
        "outputId": "9699fad1-e90f-42cd-a7b6-e56156ad6831"
      },
      "outputs": [
        {
          "data": {
            "text/html": [
              "<div>\n",
              "<style scoped>\n",
              "    .dataframe tbody tr th:only-of-type {\n",
              "        vertical-align: middle;\n",
              "    }\n",
              "\n",
              "    .dataframe tbody tr th {\n",
              "        vertical-align: top;\n",
              "    }\n",
              "\n",
              "    .dataframe thead th {\n",
              "        text-align: right;\n",
              "    }\n",
              "</style>\n",
              "<table border=\"1\" class=\"dataframe\">\n",
              "  <thead>\n",
              "    <tr style=\"text-align: right;\">\n",
              "      <th></th>\n",
              "      <th>a</th>\n",
              "      <th>b</th>\n",
              "      <th>c</th>\n",
              "      <th>d</th>\n",
              "      <th>e</th>\n",
              "    </tr>\n",
              "  </thead>\n",
              "  <tbody>\n",
              "    <tr>\n",
              "      <th>0</th>\n",
              "      <td>Aruba</td>\n",
              "      <td>ABW</td>\n",
              "      <td>10.244</td>\n",
              "      <td>78.9</td>\n",
              "      <td>High income</td>\n",
              "    </tr>\n",
              "    <tr>\n",
              "      <th>1</th>\n",
              "      <td>Afghanistan</td>\n",
              "      <td>AFG</td>\n",
              "      <td>35.253</td>\n",
              "      <td>5.9</td>\n",
              "      <td>Low income</td>\n",
              "    </tr>\n",
              "    <tr>\n",
              "      <th>2</th>\n",
              "      <td>Angola</td>\n",
              "      <td>AGO</td>\n",
              "      <td>45.985</td>\n",
              "      <td>19.1</td>\n",
              "      <td>Upper middle income</td>\n",
              "    </tr>\n",
              "    <tr>\n",
              "      <th>3</th>\n",
              "      <td>Albania</td>\n",
              "      <td>ALB</td>\n",
              "      <td>12.877</td>\n",
              "      <td>57.2</td>\n",
              "      <td>Upper middle income</td>\n",
              "    </tr>\n",
              "    <tr>\n",
              "      <th>4</th>\n",
              "      <td>United Arab Emirates</td>\n",
              "      <td>ARE</td>\n",
              "      <td>11.044</td>\n",
              "      <td>88.0</td>\n",
              "      <td>High income</td>\n",
              "    </tr>\n",
              "    <tr>\n",
              "      <th>...</th>\n",
              "      <td>...</td>\n",
              "      <td>...</td>\n",
              "      <td>...</td>\n",
              "      <td>...</td>\n",
              "      <td>...</td>\n",
              "    </tr>\n",
              "    <tr>\n",
              "      <th>190</th>\n",
              "      <td>Yemen, Rep.</td>\n",
              "      <td>YEM</td>\n",
              "      <td>32.947</td>\n",
              "      <td>20.0</td>\n",
              "      <td>Lower middle income</td>\n",
              "    </tr>\n",
              "    <tr>\n",
              "      <th>191</th>\n",
              "      <td>South Africa</td>\n",
              "      <td>ZAF</td>\n",
              "      <td>20.850</td>\n",
              "      <td>46.5</td>\n",
              "      <td>Upper middle income</td>\n",
              "    </tr>\n",
              "    <tr>\n",
              "      <th>192</th>\n",
              "      <td>Congo, Dem. Rep.</td>\n",
              "      <td>COD</td>\n",
              "      <td>42.394</td>\n",
              "      <td>2.2</td>\n",
              "      <td>Low income</td>\n",
              "    </tr>\n",
              "    <tr>\n",
              "      <th>193</th>\n",
              "      <td>Zambia</td>\n",
              "      <td>ZMB</td>\n",
              "      <td>40.471</td>\n",
              "      <td>15.4</td>\n",
              "      <td>Lower middle income</td>\n",
              "    </tr>\n",
              "    <tr>\n",
              "      <th>194</th>\n",
              "      <td>Zimbabwe</td>\n",
              "      <td>ZWE</td>\n",
              "      <td>35.715</td>\n",
              "      <td>18.5</td>\n",
              "      <td>Low income</td>\n",
              "    </tr>\n",
              "  </tbody>\n",
              "</table>\n",
              "<p>195 rows × 5 columns</p>\n",
              "</div>"
            ],
            "text/plain": [
              "                        a    b       c     d                    e\n",
              "0                   Aruba  ABW  10.244  78.9          High income\n",
              "1             Afghanistan  AFG  35.253   5.9           Low income\n",
              "2                  Angola  AGO  45.985  19.1  Upper middle income\n",
              "3                 Albania  ALB  12.877  57.2  Upper middle income\n",
              "4    United Arab Emirates  ARE  11.044  88.0          High income\n",
              "..                    ...  ...     ...   ...                  ...\n",
              "190           Yemen, Rep.  YEM  32.947  20.0  Lower middle income\n",
              "191          South Africa  ZAF  20.850  46.5  Upper middle income\n",
              "192      Congo, Dem. Rep.  COD  42.394   2.2           Low income\n",
              "193                Zambia  ZMB  40.471  15.4  Lower middle income\n",
              "194              Zimbabwe  ZWE  35.715  18.5           Low income\n",
              "\n",
              "[195 rows x 5 columns]"
            ]
          },
          "execution_count": 6,
          "metadata": {},
          "output_type": "execute_result"
        }
      ],
      "source": [
        "df.columns=['a','b','c','d','e']\n",
        "df"
      ]
    },
    {
      "cell_type": "code",
      "execution_count": null,
      "id": "a0447853-b64c-4e6f-891b-f0e5245f98a5",
      "metadata": {
        "id": "a0447853-b64c-4e6f-891b-f0e5245f98a5",
        "outputId": "7a5e7ad0-5a64-47e0-dd9c-7dad038a6b49"
      },
      "outputs": [
        {
          "data": {
            "text/html": [
              "<div>\n",
              "<style scoped>\n",
              "    .dataframe tbody tr th:only-of-type {\n",
              "        vertical-align: middle;\n",
              "    }\n",
              "\n",
              "    .dataframe tbody tr th {\n",
              "        vertical-align: top;\n",
              "    }\n",
              "\n",
              "    .dataframe thead th {\n",
              "        text-align: right;\n",
              "    }\n",
              "</style>\n",
              "<table border=\"1\" class=\"dataframe\">\n",
              "  <thead>\n",
              "    <tr style=\"text-align: right;\">\n",
              "      <th></th>\n",
              "      <th>CountryName</th>\n",
              "      <th>CountryCode</th>\n",
              "      <th>BirthRate</th>\n",
              "      <th>InternetUsers</th>\n",
              "      <th>IncomeGroup</th>\n",
              "    </tr>\n",
              "  </thead>\n",
              "  <tbody>\n",
              "    <tr>\n",
              "      <th>0</th>\n",
              "      <td>Aruba</td>\n",
              "      <td>ABW</td>\n",
              "      <td>10.244</td>\n",
              "      <td>78.9</td>\n",
              "      <td>High income</td>\n",
              "    </tr>\n",
              "    <tr>\n",
              "      <th>1</th>\n",
              "      <td>Afghanistan</td>\n",
              "      <td>AFG</td>\n",
              "      <td>35.253</td>\n",
              "      <td>5.9</td>\n",
              "      <td>Low income</td>\n",
              "    </tr>\n",
              "    <tr>\n",
              "      <th>2</th>\n",
              "      <td>Angola</td>\n",
              "      <td>AGO</td>\n",
              "      <td>45.985</td>\n",
              "      <td>19.1</td>\n",
              "      <td>Upper middle income</td>\n",
              "    </tr>\n",
              "    <tr>\n",
              "      <th>3</th>\n",
              "      <td>Albania</td>\n",
              "      <td>ALB</td>\n",
              "      <td>12.877</td>\n",
              "      <td>57.2</td>\n",
              "      <td>Upper middle income</td>\n",
              "    </tr>\n",
              "    <tr>\n",
              "      <th>4</th>\n",
              "      <td>United Arab Emirates</td>\n",
              "      <td>ARE</td>\n",
              "      <td>11.044</td>\n",
              "      <td>88.0</td>\n",
              "      <td>High income</td>\n",
              "    </tr>\n",
              "    <tr>\n",
              "      <th>...</th>\n",
              "      <td>...</td>\n",
              "      <td>...</td>\n",
              "      <td>...</td>\n",
              "      <td>...</td>\n",
              "      <td>...</td>\n",
              "    </tr>\n",
              "    <tr>\n",
              "      <th>190</th>\n",
              "      <td>Yemen, Rep.</td>\n",
              "      <td>YEM</td>\n",
              "      <td>32.947</td>\n",
              "      <td>20.0</td>\n",
              "      <td>Lower middle income</td>\n",
              "    </tr>\n",
              "    <tr>\n",
              "      <th>191</th>\n",
              "      <td>South Africa</td>\n",
              "      <td>ZAF</td>\n",
              "      <td>20.850</td>\n",
              "      <td>46.5</td>\n",
              "      <td>Upper middle income</td>\n",
              "    </tr>\n",
              "    <tr>\n",
              "      <th>192</th>\n",
              "      <td>Congo, Dem. Rep.</td>\n",
              "      <td>COD</td>\n",
              "      <td>42.394</td>\n",
              "      <td>2.2</td>\n",
              "      <td>Low income</td>\n",
              "    </tr>\n",
              "    <tr>\n",
              "      <th>193</th>\n",
              "      <td>Zambia</td>\n",
              "      <td>ZMB</td>\n",
              "      <td>40.471</td>\n",
              "      <td>15.4</td>\n",
              "      <td>Lower middle income</td>\n",
              "    </tr>\n",
              "    <tr>\n",
              "      <th>194</th>\n",
              "      <td>Zimbabwe</td>\n",
              "      <td>ZWE</td>\n",
              "      <td>35.715</td>\n",
              "      <td>18.5</td>\n",
              "      <td>Low income</td>\n",
              "    </tr>\n",
              "  </tbody>\n",
              "</table>\n",
              "<p>195 rows × 5 columns</p>\n",
              "</div>"
            ],
            "text/plain": [
              "              CountryName CountryCode  BirthRate  InternetUsers  \\\n",
              "0                   Aruba         ABW     10.244           78.9   \n",
              "1             Afghanistan         AFG     35.253            5.9   \n",
              "2                  Angola         AGO     45.985           19.1   \n",
              "3                 Albania         ALB     12.877           57.2   \n",
              "4    United Arab Emirates         ARE     11.044           88.0   \n",
              "..                    ...         ...        ...            ...   \n",
              "190           Yemen, Rep.         YEM     32.947           20.0   \n",
              "191          South Africa         ZAF     20.850           46.5   \n",
              "192      Congo, Dem. Rep.         COD     42.394            2.2   \n",
              "193                Zambia         ZMB     40.471           15.4   \n",
              "194              Zimbabwe         ZWE     35.715           18.5   \n",
              "\n",
              "             IncomeGroup  \n",
              "0            High income  \n",
              "1             Low income  \n",
              "2    Upper middle income  \n",
              "3    Upper middle income  \n",
              "4            High income  \n",
              "..                   ...  \n",
              "190  Lower middle income  \n",
              "191  Upper middle income  \n",
              "192           Low income  \n",
              "193  Lower middle income  \n",
              "194           Low income  \n",
              "\n",
              "[195 rows x 5 columns]"
            ]
          },
          "execution_count": 7,
          "metadata": {},
          "output_type": "execute_result"
        }
      ],
      "source": [
        "df.columns=['CountryName','CountryCode','BirthRate','InternetUsers','IncomeGroup']\n",
        "df"
      ]
    },
    {
      "cell_type": "code",
      "execution_count": null,
      "id": "4fb68b45-aec2-4c2a-a68a-585fd8af7702",
      "metadata": {
        "id": "4fb68b45-aec2-4c2a-a68a-585fd8af7702"
      },
      "outputs": [],
      "source": [
        "df['Calc']=df.BirthRate * df.InternetUsers"
      ]
    },
    {
      "cell_type": "code",
      "execution_count": null,
      "id": "c2f69b44-acf4-4378-8c72-5cab228f697f",
      "metadata": {
        "id": "c2f69b44-acf4-4378-8c72-5cab228f697f",
        "outputId": "457aabc2-f41d-44ef-fbc9-c0d791ed523a"
      },
      "outputs": [
        {
          "data": {
            "text/html": [
              "<div>\n",
              "<style scoped>\n",
              "    .dataframe tbody tr th:only-of-type {\n",
              "        vertical-align: middle;\n",
              "    }\n",
              "\n",
              "    .dataframe tbody tr th {\n",
              "        vertical-align: top;\n",
              "    }\n",
              "\n",
              "    .dataframe thead th {\n",
              "        text-align: right;\n",
              "    }\n",
              "</style>\n",
              "<table border=\"1\" class=\"dataframe\">\n",
              "  <thead>\n",
              "    <tr style=\"text-align: right;\">\n",
              "      <th></th>\n",
              "      <th>CountryName</th>\n",
              "      <th>CountryCode</th>\n",
              "      <th>BirthRate</th>\n",
              "      <th>InternetUsers</th>\n",
              "      <th>IncomeGroup</th>\n",
              "      <th>Calc</th>\n",
              "    </tr>\n",
              "  </thead>\n",
              "  <tbody>\n",
              "    <tr>\n",
              "      <th>0</th>\n",
              "      <td>Aruba</td>\n",
              "      <td>ABW</td>\n",
              "      <td>10.244</td>\n",
              "      <td>78.9</td>\n",
              "      <td>High income</td>\n",
              "      <td>808.2516</td>\n",
              "    </tr>\n",
              "    <tr>\n",
              "      <th>1</th>\n",
              "      <td>Afghanistan</td>\n",
              "      <td>AFG</td>\n",
              "      <td>35.253</td>\n",
              "      <td>5.9</td>\n",
              "      <td>Low income</td>\n",
              "      <td>207.9927</td>\n",
              "    </tr>\n",
              "    <tr>\n",
              "      <th>2</th>\n",
              "      <td>Angola</td>\n",
              "      <td>AGO</td>\n",
              "      <td>45.985</td>\n",
              "      <td>19.1</td>\n",
              "      <td>Upper middle income</td>\n",
              "      <td>878.3135</td>\n",
              "    </tr>\n",
              "    <tr>\n",
              "      <th>3</th>\n",
              "      <td>Albania</td>\n",
              "      <td>ALB</td>\n",
              "      <td>12.877</td>\n",
              "      <td>57.2</td>\n",
              "      <td>Upper middle income</td>\n",
              "      <td>736.5644</td>\n",
              "    </tr>\n",
              "    <tr>\n",
              "      <th>4</th>\n",
              "      <td>United Arab Emirates</td>\n",
              "      <td>ARE</td>\n",
              "      <td>11.044</td>\n",
              "      <td>88.0</td>\n",
              "      <td>High income</td>\n",
              "      <td>971.8720</td>\n",
              "    </tr>\n",
              "    <tr>\n",
              "      <th>...</th>\n",
              "      <td>...</td>\n",
              "      <td>...</td>\n",
              "      <td>...</td>\n",
              "      <td>...</td>\n",
              "      <td>...</td>\n",
              "      <td>...</td>\n",
              "    </tr>\n",
              "    <tr>\n",
              "      <th>190</th>\n",
              "      <td>Yemen, Rep.</td>\n",
              "      <td>YEM</td>\n",
              "      <td>32.947</td>\n",
              "      <td>20.0</td>\n",
              "      <td>Lower middle income</td>\n",
              "      <td>658.9400</td>\n",
              "    </tr>\n",
              "    <tr>\n",
              "      <th>191</th>\n",
              "      <td>South Africa</td>\n",
              "      <td>ZAF</td>\n",
              "      <td>20.850</td>\n",
              "      <td>46.5</td>\n",
              "      <td>Upper middle income</td>\n",
              "      <td>969.5250</td>\n",
              "    </tr>\n",
              "    <tr>\n",
              "      <th>192</th>\n",
              "      <td>Congo, Dem. Rep.</td>\n",
              "      <td>COD</td>\n",
              "      <td>42.394</td>\n",
              "      <td>2.2</td>\n",
              "      <td>Low income</td>\n",
              "      <td>93.2668</td>\n",
              "    </tr>\n",
              "    <tr>\n",
              "      <th>193</th>\n",
              "      <td>Zambia</td>\n",
              "      <td>ZMB</td>\n",
              "      <td>40.471</td>\n",
              "      <td>15.4</td>\n",
              "      <td>Lower middle income</td>\n",
              "      <td>623.2534</td>\n",
              "    </tr>\n",
              "    <tr>\n",
              "      <th>194</th>\n",
              "      <td>Zimbabwe</td>\n",
              "      <td>ZWE</td>\n",
              "      <td>35.715</td>\n",
              "      <td>18.5</td>\n",
              "      <td>Low income</td>\n",
              "      <td>660.7275</td>\n",
              "    </tr>\n",
              "  </tbody>\n",
              "</table>\n",
              "<p>195 rows × 6 columns</p>\n",
              "</div>"
            ],
            "text/plain": [
              "              CountryName CountryCode  BirthRate  InternetUsers  \\\n",
              "0                   Aruba         ABW     10.244           78.9   \n",
              "1             Afghanistan         AFG     35.253            5.9   \n",
              "2                  Angola         AGO     45.985           19.1   \n",
              "3                 Albania         ALB     12.877           57.2   \n",
              "4    United Arab Emirates         ARE     11.044           88.0   \n",
              "..                    ...         ...        ...            ...   \n",
              "190           Yemen, Rep.         YEM     32.947           20.0   \n",
              "191          South Africa         ZAF     20.850           46.5   \n",
              "192      Congo, Dem. Rep.         COD     42.394            2.2   \n",
              "193                Zambia         ZMB     40.471           15.4   \n",
              "194              Zimbabwe         ZWE     35.715           18.5   \n",
              "\n",
              "             IncomeGroup      Calc  \n",
              "0            High income  808.2516  \n",
              "1             Low income  207.9927  \n",
              "2    Upper middle income  878.3135  \n",
              "3    Upper middle income  736.5644  \n",
              "4            High income  971.8720  \n",
              "..                   ...       ...  \n",
              "190  Lower middle income  658.9400  \n",
              "191  Upper middle income  969.5250  \n",
              "192           Low income   93.2668  \n",
              "193  Lower middle income  623.2534  \n",
              "194           Low income  660.7275  \n",
              "\n",
              "[195 rows x 6 columns]"
            ]
          },
          "execution_count": 16,
          "metadata": {},
          "output_type": "execute_result"
        }
      ],
      "source": [
        "df"
      ]
    },
    {
      "cell_type": "code",
      "execution_count": null,
      "id": "ade84a36-bef2-4a5c-bc3b-c10f1645f06b",
      "metadata": {
        "id": "ade84a36-bef2-4a5c-bc3b-c10f1645f06b"
      },
      "outputs": [],
      "source": [
        "df=df.drop('Calc',axis=1)"
      ]
    },
    {
      "cell_type": "code",
      "execution_count": null,
      "id": "93bbee2d-3fff-4ecf-a955-5a673876100c",
      "metadata": {
        "id": "93bbee2d-3fff-4ecf-a955-5a673876100c",
        "outputId": "561b265c-c302-477e-a201-fb3d0f0616d7"
      },
      "outputs": [
        {
          "data": {
            "text/html": [
              "<div>\n",
              "<style scoped>\n",
              "    .dataframe tbody tr th:only-of-type {\n",
              "        vertical-align: middle;\n",
              "    }\n",
              "\n",
              "    .dataframe tbody tr th {\n",
              "        vertical-align: top;\n",
              "    }\n",
              "\n",
              "    .dataframe thead th {\n",
              "        text-align: right;\n",
              "    }\n",
              "</style>\n",
              "<table border=\"1\" class=\"dataframe\">\n",
              "  <thead>\n",
              "    <tr style=\"text-align: right;\">\n",
              "      <th></th>\n",
              "      <th>CountryName</th>\n",
              "      <th>CountryCode</th>\n",
              "      <th>BirthRate</th>\n",
              "      <th>InternetUsers</th>\n",
              "      <th>IncomeGroup</th>\n",
              "    </tr>\n",
              "  </thead>\n",
              "  <tbody>\n",
              "    <tr>\n",
              "      <th>0</th>\n",
              "      <td>Aruba</td>\n",
              "      <td>ABW</td>\n",
              "      <td>10.244</td>\n",
              "      <td>78.9</td>\n",
              "      <td>High income</td>\n",
              "    </tr>\n",
              "    <tr>\n",
              "      <th>1</th>\n",
              "      <td>Afghanistan</td>\n",
              "      <td>AFG</td>\n",
              "      <td>35.253</td>\n",
              "      <td>5.9</td>\n",
              "      <td>Low income</td>\n",
              "    </tr>\n",
              "    <tr>\n",
              "      <th>2</th>\n",
              "      <td>Angola</td>\n",
              "      <td>AGO</td>\n",
              "      <td>45.985</td>\n",
              "      <td>19.1</td>\n",
              "      <td>Upper middle income</td>\n",
              "    </tr>\n",
              "    <tr>\n",
              "      <th>3</th>\n",
              "      <td>Albania</td>\n",
              "      <td>ALB</td>\n",
              "      <td>12.877</td>\n",
              "      <td>57.2</td>\n",
              "      <td>Upper middle income</td>\n",
              "    </tr>\n",
              "    <tr>\n",
              "      <th>4</th>\n",
              "      <td>United Arab Emirates</td>\n",
              "      <td>ARE</td>\n",
              "      <td>11.044</td>\n",
              "      <td>88.0</td>\n",
              "      <td>High income</td>\n",
              "    </tr>\n",
              "    <tr>\n",
              "      <th>...</th>\n",
              "      <td>...</td>\n",
              "      <td>...</td>\n",
              "      <td>...</td>\n",
              "      <td>...</td>\n",
              "      <td>...</td>\n",
              "    </tr>\n",
              "    <tr>\n",
              "      <th>190</th>\n",
              "      <td>Yemen, Rep.</td>\n",
              "      <td>YEM</td>\n",
              "      <td>32.947</td>\n",
              "      <td>20.0</td>\n",
              "      <td>Lower middle income</td>\n",
              "    </tr>\n",
              "    <tr>\n",
              "      <th>191</th>\n",
              "      <td>South Africa</td>\n",
              "      <td>ZAF</td>\n",
              "      <td>20.850</td>\n",
              "      <td>46.5</td>\n",
              "      <td>Upper middle income</td>\n",
              "    </tr>\n",
              "    <tr>\n",
              "      <th>192</th>\n",
              "      <td>Congo, Dem. Rep.</td>\n",
              "      <td>COD</td>\n",
              "      <td>42.394</td>\n",
              "      <td>2.2</td>\n",
              "      <td>Low income</td>\n",
              "    </tr>\n",
              "    <tr>\n",
              "      <th>193</th>\n",
              "      <td>Zambia</td>\n",
              "      <td>ZMB</td>\n",
              "      <td>40.471</td>\n",
              "      <td>15.4</td>\n",
              "      <td>Lower middle income</td>\n",
              "    </tr>\n",
              "    <tr>\n",
              "      <th>194</th>\n",
              "      <td>Zimbabwe</td>\n",
              "      <td>ZWE</td>\n",
              "      <td>35.715</td>\n",
              "      <td>18.5</td>\n",
              "      <td>Low income</td>\n",
              "    </tr>\n",
              "  </tbody>\n",
              "</table>\n",
              "<p>195 rows × 5 columns</p>\n",
              "</div>"
            ],
            "text/plain": [
              "              CountryName CountryCode  BirthRate  InternetUsers  \\\n",
              "0                   Aruba         ABW     10.244           78.9   \n",
              "1             Afghanistan         AFG     35.253            5.9   \n",
              "2                  Angola         AGO     45.985           19.1   \n",
              "3                 Albania         ALB     12.877           57.2   \n",
              "4    United Arab Emirates         ARE     11.044           88.0   \n",
              "..                    ...         ...        ...            ...   \n",
              "190           Yemen, Rep.         YEM     32.947           20.0   \n",
              "191          South Africa         ZAF     20.850           46.5   \n",
              "192      Congo, Dem. Rep.         COD     42.394            2.2   \n",
              "193                Zambia         ZMB     40.471           15.4   \n",
              "194              Zimbabwe         ZWE     35.715           18.5   \n",
              "\n",
              "             IncomeGroup  \n",
              "0            High income  \n",
              "1             Low income  \n",
              "2    Upper middle income  \n",
              "3    Upper middle income  \n",
              "4            High income  \n",
              "..                   ...  \n",
              "190  Lower middle income  \n",
              "191  Upper middle income  \n",
              "192           Low income  \n",
              "193  Lower middle income  \n",
              "194           Low income  \n",
              "\n",
              "[195 rows x 5 columns]"
            ]
          },
          "execution_count": 19,
          "metadata": {},
          "output_type": "execute_result"
        }
      ],
      "source": [
        "df"
      ]
    },
    {
      "cell_type": "code",
      "execution_count": null,
      "id": "672502f5-72b0-480a-bf20-1f2c2b2373a3",
      "metadata": {
        "id": "672502f5-72b0-480a-bf20-1f2c2b2373a3",
        "outputId": "93836e24-ed03-4005-da73-676e8509e4f4"
      },
      "outputs": [
        {
          "data": {
            "text/plain": [
              "5"
            ]
          },
          "execution_count": 20,
          "metadata": {},
          "output_type": "execute_result"
        }
      ],
      "source": [
        "len(df.columns)"
      ]
    },
    {
      "cell_type": "code",
      "execution_count": null,
      "id": "2e0389ba-9438-4d6e-b829-236787531a99",
      "metadata": {
        "id": "2e0389ba-9438-4d6e-b829-236787531a99",
        "outputId": "a8035ba2-70f0-466d-c299-24b1da41e81f"
      },
      "outputs": [
        {
          "data": {
            "text/plain": [
              "0      False\n",
              "1      False\n",
              "2      False\n",
              "3      False\n",
              "4      False\n",
              "       ...  \n",
              "190    False\n",
              "191    False\n",
              "192    False\n",
              "193    False\n",
              "194    False\n",
              "Name: InternetUsers, Length: 195, dtype: bool"
            ]
          },
          "execution_count": 23,
          "metadata": {},
          "output_type": "execute_result"
        }
      ],
      "source": [
        "Filter=df.InternetUsers<2\n",
        "Filter"
      ]
    },
    {
      "cell_type": "code",
      "execution_count": null,
      "id": "0908ec5c-451a-4381-8453-995208f96548",
      "metadata": {
        "id": "0908ec5c-451a-4381-8453-995208f96548",
        "outputId": "f4cfe660-1c23-4617-a413-aa1ccebe4e44"
      },
      "outputs": [
        {
          "data": {
            "text/html": [
              "<div>\n",
              "<style scoped>\n",
              "    .dataframe tbody tr th:only-of-type {\n",
              "        vertical-align: middle;\n",
              "    }\n",
              "\n",
              "    .dataframe tbody tr th {\n",
              "        vertical-align: top;\n",
              "    }\n",
              "\n",
              "    .dataframe thead th {\n",
              "        text-align: right;\n",
              "    }\n",
              "</style>\n",
              "<table border=\"1\" class=\"dataframe\">\n",
              "  <thead>\n",
              "    <tr style=\"text-align: right;\">\n",
              "      <th></th>\n",
              "      <th>CountryName</th>\n",
              "      <th>CountryCode</th>\n",
              "      <th>BirthRate</th>\n",
              "      <th>InternetUsers</th>\n",
              "      <th>IncomeGroup</th>\n",
              "    </tr>\n",
              "  </thead>\n",
              "  <tbody>\n",
              "    <tr>\n",
              "      <th>11</th>\n",
              "      <td>Burundi</td>\n",
              "      <td>BDI</td>\n",
              "      <td>44.151</td>\n",
              "      <td>1.3</td>\n",
              "      <td>Low income</td>\n",
              "    </tr>\n",
              "    <tr>\n",
              "      <th>52</th>\n",
              "      <td>Eritrea</td>\n",
              "      <td>ERI</td>\n",
              "      <td>34.800</td>\n",
              "      <td>0.9</td>\n",
              "      <td>Low income</td>\n",
              "    </tr>\n",
              "    <tr>\n",
              "      <th>55</th>\n",
              "      <td>Ethiopia</td>\n",
              "      <td>ETH</td>\n",
              "      <td>32.925</td>\n",
              "      <td>1.9</td>\n",
              "      <td>Low income</td>\n",
              "    </tr>\n",
              "    <tr>\n",
              "      <th>64</th>\n",
              "      <td>Guinea</td>\n",
              "      <td>GIN</td>\n",
              "      <td>37.337</td>\n",
              "      <td>1.6</td>\n",
              "      <td>Low income</td>\n",
              "    </tr>\n",
              "    <tr>\n",
              "      <th>117</th>\n",
              "      <td>Myanmar</td>\n",
              "      <td>MMR</td>\n",
              "      <td>18.119</td>\n",
              "      <td>1.6</td>\n",
              "      <td>Lower middle income</td>\n",
              "    </tr>\n",
              "    <tr>\n",
              "      <th>127</th>\n",
              "      <td>Niger</td>\n",
              "      <td>NER</td>\n",
              "      <td>49.661</td>\n",
              "      <td>1.7</td>\n",
              "      <td>Low income</td>\n",
              "    </tr>\n",
              "    <tr>\n",
              "      <th>154</th>\n",
              "      <td>Sierra Leone</td>\n",
              "      <td>SLE</td>\n",
              "      <td>36.729</td>\n",
              "      <td>1.7</td>\n",
              "      <td>Low income</td>\n",
              "    </tr>\n",
              "    <tr>\n",
              "      <th>156</th>\n",
              "      <td>Somalia</td>\n",
              "      <td>SOM</td>\n",
              "      <td>43.891</td>\n",
              "      <td>1.5</td>\n",
              "      <td>Low income</td>\n",
              "    </tr>\n",
              "    <tr>\n",
              "      <th>172</th>\n",
              "      <td>Timor-Leste</td>\n",
              "      <td>TLS</td>\n",
              "      <td>35.755</td>\n",
              "      <td>1.1</td>\n",
              "      <td>Lower middle income</td>\n",
              "    </tr>\n",
              "  </tbody>\n",
              "</table>\n",
              "</div>"
            ],
            "text/plain": [
              "      CountryName CountryCode  BirthRate  InternetUsers          IncomeGroup\n",
              "11        Burundi         BDI     44.151            1.3           Low income\n",
              "52        Eritrea         ERI     34.800            0.9           Low income\n",
              "55       Ethiopia         ETH     32.925            1.9           Low income\n",
              "64         Guinea         GIN     37.337            1.6           Low income\n",
              "117       Myanmar         MMR     18.119            1.6  Lower middle income\n",
              "127         Niger         NER     49.661            1.7           Low income\n",
              "154  Sierra Leone         SLE     36.729            1.7           Low income\n",
              "156       Somalia         SOM     43.891            1.5           Low income\n",
              "172   Timor-Leste         TLS     35.755            1.1  Lower middle income"
            ]
          },
          "execution_count": 25,
          "metadata": {},
          "output_type": "execute_result"
        }
      ],
      "source": [
        "df[Filter]"
      ]
    },
    {
      "cell_type": "code",
      "execution_count": null,
      "id": "3ddfb739-d946-41e9-bf09-acc65fd1ceb3",
      "metadata": {
        "id": "3ddfb739-d946-41e9-bf09-acc65fd1ceb3",
        "outputId": "c4fb25a9-446b-4797-e7a6-39181bdeaf65"
      },
      "outputs": [
        {
          "data": {
            "text/plain": [
              "9"
            ]
          },
          "execution_count": 26,
          "metadata": {},
          "output_type": "execute_result"
        }
      ],
      "source": [
        "len(df[Filter])"
      ]
    },
    {
      "cell_type": "code",
      "execution_count": null,
      "id": "b5ccd1b1-3073-43bd-bbc6-e23a6b630ec4",
      "metadata": {
        "id": "b5ccd1b1-3073-43bd-bbc6-e23a6b630ec4",
        "outputId": "93129e11-a35a-4770-d67d-453f830d6fcd"
      },
      "outputs": [
        {
          "data": {
            "text/plain": [
              "0      False\n",
              "1      False\n",
              "2       True\n",
              "3      False\n",
              "4      False\n",
              "       ...  \n",
              "190    False\n",
              "191    False\n",
              "192     True\n",
              "193     True\n",
              "194    False\n",
              "Name: BirthRate, Length: 195, dtype: bool"
            ]
          },
          "execution_count": 27,
          "metadata": {},
          "output_type": "execute_result"
        }
      ],
      "source": [
        "df.BirthRate>40"
      ]
    },
    {
      "cell_type": "code",
      "execution_count": null,
      "id": "46762183-600e-4bc8-a936-03d81eca5aea",
      "metadata": {
        "id": "46762183-600e-4bc8-a936-03d81eca5aea",
        "outputId": "bcc68348-a280-42a5-81c6-b04a9d722567"
      },
      "outputs": [
        {
          "data": {
            "text/plain": [
              "0      False\n",
              "1      False\n",
              "2       True\n",
              "3      False\n",
              "4      False\n",
              "       ...  \n",
              "190    False\n",
              "191    False\n",
              "192     True\n",
              "193     True\n",
              "194    False\n",
              "Name: BirthRate, Length: 195, dtype: bool"
            ]
          },
          "execution_count": 28,
          "metadata": {},
          "output_type": "execute_result"
        }
      ],
      "source": [
        "Filter2=df.BirthRate>40\n",
        "Filter2"
      ]
    },
    {
      "cell_type": "code",
      "execution_count": null,
      "id": "e1e41b57-2521-4334-994a-e20bd51640a1",
      "metadata": {
        "id": "e1e41b57-2521-4334-994a-e20bd51640a1",
        "outputId": "ad4f78be-0573-4fba-d232-70f2c7d4c0ca"
      },
      "outputs": [
        {
          "data": {
            "text/html": [
              "<div>\n",
              "<style scoped>\n",
              "    .dataframe tbody tr th:only-of-type {\n",
              "        vertical-align: middle;\n",
              "    }\n",
              "\n",
              "    .dataframe tbody tr th {\n",
              "        vertical-align: top;\n",
              "    }\n",
              "\n",
              "    .dataframe thead th {\n",
              "        text-align: right;\n",
              "    }\n",
              "</style>\n",
              "<table border=\"1\" class=\"dataframe\">\n",
              "  <thead>\n",
              "    <tr style=\"text-align: right;\">\n",
              "      <th></th>\n",
              "      <th>CountryName</th>\n",
              "      <th>CountryCode</th>\n",
              "      <th>BirthRate</th>\n",
              "      <th>InternetUsers</th>\n",
              "      <th>IncomeGroup</th>\n",
              "    </tr>\n",
              "  </thead>\n",
              "  <tbody>\n",
              "    <tr>\n",
              "      <th>2</th>\n",
              "      <td>Angola</td>\n",
              "      <td>AGO</td>\n",
              "      <td>45.985</td>\n",
              "      <td>19.1</td>\n",
              "      <td>Upper middle income</td>\n",
              "    </tr>\n",
              "    <tr>\n",
              "      <th>11</th>\n",
              "      <td>Burundi</td>\n",
              "      <td>BDI</td>\n",
              "      <td>44.151</td>\n",
              "      <td>1.3</td>\n",
              "      <td>Low income</td>\n",
              "    </tr>\n",
              "    <tr>\n",
              "      <th>14</th>\n",
              "      <td>Burkina Faso</td>\n",
              "      <td>BFA</td>\n",
              "      <td>40.551</td>\n",
              "      <td>9.1</td>\n",
              "      <td>Low income</td>\n",
              "    </tr>\n",
              "    <tr>\n",
              "      <th>65</th>\n",
              "      <td>Gambia, The</td>\n",
              "      <td>GMB</td>\n",
              "      <td>42.525</td>\n",
              "      <td>14.0</td>\n",
              "      <td>Low income</td>\n",
              "    </tr>\n",
              "    <tr>\n",
              "      <th>115</th>\n",
              "      <td>Mali</td>\n",
              "      <td>MLI</td>\n",
              "      <td>44.138</td>\n",
              "      <td>3.5</td>\n",
              "      <td>Low income</td>\n",
              "    </tr>\n",
              "    <tr>\n",
              "      <th>127</th>\n",
              "      <td>Niger</td>\n",
              "      <td>NER</td>\n",
              "      <td>49.661</td>\n",
              "      <td>1.7</td>\n",
              "      <td>Low income</td>\n",
              "    </tr>\n",
              "    <tr>\n",
              "      <th>128</th>\n",
              "      <td>Nigeria</td>\n",
              "      <td>NGA</td>\n",
              "      <td>40.045</td>\n",
              "      <td>38.0</td>\n",
              "      <td>Lower middle income</td>\n",
              "    </tr>\n",
              "    <tr>\n",
              "      <th>156</th>\n",
              "      <td>Somalia</td>\n",
              "      <td>SOM</td>\n",
              "      <td>43.891</td>\n",
              "      <td>1.5</td>\n",
              "      <td>Low income</td>\n",
              "    </tr>\n",
              "    <tr>\n",
              "      <th>167</th>\n",
              "      <td>Chad</td>\n",
              "      <td>TCD</td>\n",
              "      <td>45.745</td>\n",
              "      <td>2.3</td>\n",
              "      <td>Low income</td>\n",
              "    </tr>\n",
              "    <tr>\n",
              "      <th>178</th>\n",
              "      <td>Uganda</td>\n",
              "      <td>UGA</td>\n",
              "      <td>43.474</td>\n",
              "      <td>16.2</td>\n",
              "      <td>Low income</td>\n",
              "    </tr>\n",
              "    <tr>\n",
              "      <th>192</th>\n",
              "      <td>Congo, Dem. Rep.</td>\n",
              "      <td>COD</td>\n",
              "      <td>42.394</td>\n",
              "      <td>2.2</td>\n",
              "      <td>Low income</td>\n",
              "    </tr>\n",
              "    <tr>\n",
              "      <th>193</th>\n",
              "      <td>Zambia</td>\n",
              "      <td>ZMB</td>\n",
              "      <td>40.471</td>\n",
              "      <td>15.4</td>\n",
              "      <td>Lower middle income</td>\n",
              "    </tr>\n",
              "  </tbody>\n",
              "</table>\n",
              "</div>"
            ],
            "text/plain": [
              "          CountryName CountryCode  BirthRate  InternetUsers  \\\n",
              "2              Angola         AGO     45.985           19.1   \n",
              "11            Burundi         BDI     44.151            1.3   \n",
              "14       Burkina Faso         BFA     40.551            9.1   \n",
              "65        Gambia, The         GMB     42.525           14.0   \n",
              "115              Mali         MLI     44.138            3.5   \n",
              "127             Niger         NER     49.661            1.7   \n",
              "128           Nigeria         NGA     40.045           38.0   \n",
              "156           Somalia         SOM     43.891            1.5   \n",
              "167              Chad         TCD     45.745            2.3   \n",
              "178            Uganda         UGA     43.474           16.2   \n",
              "192  Congo, Dem. Rep.         COD     42.394            2.2   \n",
              "193            Zambia         ZMB     40.471           15.4   \n",
              "\n",
              "             IncomeGroup  \n",
              "2    Upper middle income  \n",
              "11            Low income  \n",
              "14            Low income  \n",
              "65            Low income  \n",
              "115           Low income  \n",
              "127           Low income  \n",
              "128  Lower middle income  \n",
              "156           Low income  \n",
              "167           Low income  \n",
              "178           Low income  \n",
              "192           Low income  \n",
              "193  Lower middle income  "
            ]
          },
          "execution_count": 29,
          "metadata": {},
          "output_type": "execute_result"
        }
      ],
      "source": [
        "df[Filter2]"
      ]
    },
    {
      "cell_type": "code",
      "execution_count": null,
      "id": "2c682cbc-0ab9-4cee-9ce2-bf963d9b2d0e",
      "metadata": {
        "id": "2c682cbc-0ab9-4cee-9ce2-bf963d9b2d0e",
        "outputId": "b6ffaa46-0280-4e36-b129-ce0edbfdd525"
      },
      "outputs": [
        {
          "data": {
            "text/plain": [
              "12"
            ]
          },
          "execution_count": 30,
          "metadata": {},
          "output_type": "execute_result"
        }
      ],
      "source": [
        "len(df[Filter2])"
      ]
    },
    {
      "cell_type": "code",
      "execution_count": null,
      "id": "5c6d1a98-4f71-4e5d-8304-f5c4ae2fe415",
      "metadata": {
        "id": "5c6d1a98-4f71-4e5d-8304-f5c4ae2fe415",
        "outputId": "756914bb-5c3c-46fb-a4ad-9f026a689ac3"
      },
      "outputs": [
        {
          "data": {
            "text/plain": [
              "0      False\n",
              "1      False\n",
              "2      False\n",
              "3      False\n",
              "4      False\n",
              "       ...  \n",
              "190    False\n",
              "191    False\n",
              "192    False\n",
              "193    False\n",
              "194    False\n",
              "Length: 195, dtype: bool"
            ]
          },
          "execution_count": 31,
          "metadata": {},
          "output_type": "execute_result"
        }
      ],
      "source": [
        "Filter&Filter2"
      ]
    },
    {
      "cell_type": "code",
      "execution_count": null,
      "id": "c13d826d-39df-4d98-ac80-d23e9f8b6c16",
      "metadata": {
        "id": "c13d826d-39df-4d98-ac80-d23e9f8b6c16",
        "outputId": "5a637167-d5b2-40a4-876f-e79538f8036c"
      },
      "outputs": [
        {
          "data": {
            "text/html": [
              "<div>\n",
              "<style scoped>\n",
              "    .dataframe tbody tr th:only-of-type {\n",
              "        vertical-align: middle;\n",
              "    }\n",
              "\n",
              "    .dataframe tbody tr th {\n",
              "        vertical-align: top;\n",
              "    }\n",
              "\n",
              "    .dataframe thead th {\n",
              "        text-align: right;\n",
              "    }\n",
              "</style>\n",
              "<table border=\"1\" class=\"dataframe\">\n",
              "  <thead>\n",
              "    <tr style=\"text-align: right;\">\n",
              "      <th></th>\n",
              "      <th>CountryName</th>\n",
              "      <th>CountryCode</th>\n",
              "      <th>BirthRate</th>\n",
              "      <th>InternetUsers</th>\n",
              "      <th>IncomeGroup</th>\n",
              "    </tr>\n",
              "  </thead>\n",
              "  <tbody>\n",
              "    <tr>\n",
              "      <th>11</th>\n",
              "      <td>Burundi</td>\n",
              "      <td>BDI</td>\n",
              "      <td>44.151</td>\n",
              "      <td>1.3</td>\n",
              "      <td>Low income</td>\n",
              "    </tr>\n",
              "    <tr>\n",
              "      <th>127</th>\n",
              "      <td>Niger</td>\n",
              "      <td>NER</td>\n",
              "      <td>49.661</td>\n",
              "      <td>1.7</td>\n",
              "      <td>Low income</td>\n",
              "    </tr>\n",
              "    <tr>\n",
              "      <th>156</th>\n",
              "      <td>Somalia</td>\n",
              "      <td>SOM</td>\n",
              "      <td>43.891</td>\n",
              "      <td>1.5</td>\n",
              "      <td>Low income</td>\n",
              "    </tr>\n",
              "  </tbody>\n",
              "</table>\n",
              "</div>"
            ],
            "text/plain": [
              "    CountryName CountryCode  BirthRate  InternetUsers IncomeGroup\n",
              "11      Burundi         BDI     44.151            1.3  Low income\n",
              "127       Niger         NER     49.661            1.7  Low income\n",
              "156     Somalia         SOM     43.891            1.5  Low income"
            ]
          },
          "execution_count": 32,
          "metadata": {},
          "output_type": "execute_result"
        }
      ],
      "source": [
        "df[Filter&Filter2]"
      ]
    },
    {
      "cell_type": "code",
      "execution_count": null,
      "id": "46318e8e-b2af-4eb7-8e4b-9aed20befc99",
      "metadata": {
        "id": "46318e8e-b2af-4eb7-8e4b-9aed20befc99",
        "outputId": "8c941071-f688-4d07-9d39-c57f92febf56"
      },
      "outputs": [
        {
          "data": {
            "text/html": [
              "<div>\n",
              "<style scoped>\n",
              "    .dataframe tbody tr th:only-of-type {\n",
              "        vertical-align: middle;\n",
              "    }\n",
              "\n",
              "    .dataframe tbody tr th {\n",
              "        vertical-align: top;\n",
              "    }\n",
              "\n",
              "    .dataframe thead th {\n",
              "        text-align: right;\n",
              "    }\n",
              "</style>\n",
              "<table border=\"1\" class=\"dataframe\">\n",
              "  <thead>\n",
              "    <tr style=\"text-align: right;\">\n",
              "      <th></th>\n",
              "      <th>CountryName</th>\n",
              "      <th>CountryCode</th>\n",
              "      <th>BirthRate</th>\n",
              "      <th>InternetUsers</th>\n",
              "      <th>IncomeGroup</th>\n",
              "    </tr>\n",
              "  </thead>\n",
              "  <tbody>\n",
              "    <tr>\n",
              "      <th>0</th>\n",
              "      <td>Aruba</td>\n",
              "      <td>ABW</td>\n",
              "      <td>10.244</td>\n",
              "      <td>78.90</td>\n",
              "      <td>High income</td>\n",
              "    </tr>\n",
              "    <tr>\n",
              "      <th>4</th>\n",
              "      <td>United Arab Emirates</td>\n",
              "      <td>ARE</td>\n",
              "      <td>11.044</td>\n",
              "      <td>88.00</td>\n",
              "      <td>High income</td>\n",
              "    </tr>\n",
              "    <tr>\n",
              "      <th>5</th>\n",
              "      <td>Argentina</td>\n",
              "      <td>ARG</td>\n",
              "      <td>17.716</td>\n",
              "      <td>59.90</td>\n",
              "      <td>High income</td>\n",
              "    </tr>\n",
              "    <tr>\n",
              "      <th>7</th>\n",
              "      <td>Antigua and Barbuda</td>\n",
              "      <td>ATG</td>\n",
              "      <td>16.447</td>\n",
              "      <td>63.40</td>\n",
              "      <td>High income</td>\n",
              "    </tr>\n",
              "    <tr>\n",
              "      <th>8</th>\n",
              "      <td>Australia</td>\n",
              "      <td>AUS</td>\n",
              "      <td>13.200</td>\n",
              "      <td>83.00</td>\n",
              "      <td>High income</td>\n",
              "    </tr>\n",
              "    <tr>\n",
              "      <th>...</th>\n",
              "      <td>...</td>\n",
              "      <td>...</td>\n",
              "      <td>...</td>\n",
              "      <td>...</td>\n",
              "      <td>...</td>\n",
              "    </tr>\n",
              "    <tr>\n",
              "      <th>174</th>\n",
              "      <td>Trinidad and Tobago</td>\n",
              "      <td>TTO</td>\n",
              "      <td>14.590</td>\n",
              "      <td>63.80</td>\n",
              "      <td>High income</td>\n",
              "    </tr>\n",
              "    <tr>\n",
              "      <th>180</th>\n",
              "      <td>Uruguay</td>\n",
              "      <td>URY</td>\n",
              "      <td>14.374</td>\n",
              "      <td>57.69</td>\n",
              "      <td>High income</td>\n",
              "    </tr>\n",
              "    <tr>\n",
              "      <th>181</th>\n",
              "      <td>United States</td>\n",
              "      <td>USA</td>\n",
              "      <td>12.500</td>\n",
              "      <td>84.20</td>\n",
              "      <td>High income</td>\n",
              "    </tr>\n",
              "    <tr>\n",
              "      <th>184</th>\n",
              "      <td>Venezuela, RB</td>\n",
              "      <td>VEN</td>\n",
              "      <td>19.842</td>\n",
              "      <td>54.90</td>\n",
              "      <td>High income</td>\n",
              "    </tr>\n",
              "    <tr>\n",
              "      <th>185</th>\n",
              "      <td>Virgin Islands (U.S.)</td>\n",
              "      <td>VIR</td>\n",
              "      <td>10.700</td>\n",
              "      <td>45.30</td>\n",
              "      <td>High income</td>\n",
              "    </tr>\n",
              "  </tbody>\n",
              "</table>\n",
              "<p>67 rows × 5 columns</p>\n",
              "</div>"
            ],
            "text/plain": [
              "               CountryName CountryCode  BirthRate  InternetUsers  IncomeGroup\n",
              "0                    Aruba         ABW     10.244          78.90  High income\n",
              "4     United Arab Emirates         ARE     11.044          88.00  High income\n",
              "5                Argentina         ARG     17.716          59.90  High income\n",
              "7      Antigua and Barbuda         ATG     16.447          63.40  High income\n",
              "8                Australia         AUS     13.200          83.00  High income\n",
              "..                     ...         ...        ...            ...          ...\n",
              "174    Trinidad and Tobago         TTO     14.590          63.80  High income\n",
              "180                Uruguay         URY     14.374          57.69  High income\n",
              "181          United States         USA     12.500          84.20  High income\n",
              "184          Venezuela, RB         VEN     19.842          54.90  High income\n",
              "185  Virgin Islands (U.S.)         VIR     10.700          45.30  High income\n",
              "\n",
              "[67 rows x 5 columns]"
            ]
          },
          "execution_count": 33,
          "metadata": {},
          "output_type": "execute_result"
        }
      ],
      "source": [
        "df[df.IncomeGroup=='High income']"
      ]
    },
    {
      "cell_type": "code",
      "execution_count": null,
      "id": "592a4190-0408-4f74-af5f-fb8fa0ce5d59",
      "metadata": {
        "id": "592a4190-0408-4f74-af5f-fb8fa0ce5d59",
        "outputId": "4b8d83c2-e031-4721-ef44-77a5bfddfcfa"
      },
      "outputs": [
        {
          "data": {
            "text/plain": [
              "array(['High income', 'Low income', 'Upper middle income',\n",
              "       'Lower middle income'], dtype=object)"
            ]
          },
          "execution_count": 34,
          "metadata": {},
          "output_type": "execute_result"
        }
      ],
      "source": [
        "df.IncomeGroup.unique()"
      ]
    },
    {
      "cell_type": "code",
      "execution_count": null,
      "id": "830362ec-cfc7-4e54-9b6e-6255d817a092",
      "metadata": {
        "id": "830362ec-cfc7-4e54-9b6e-6255d817a092",
        "outputId": "ea1b346b-2b0a-4f4c-8888-baa6539ec643"
      },
      "outputs": [
        {
          "data": {
            "text/plain": [
              "4"
            ]
          },
          "execution_count": 35,
          "metadata": {},
          "output_type": "execute_result"
        }
      ],
      "source": [
        "df.IncomeGroup.nunique()"
      ]
    },
    {
      "cell_type": "code",
      "execution_count": null,
      "id": "3f06bfbd-0f88-4fd7-bab6-a5be538ed863",
      "metadata": {
        "id": "3f06bfbd-0f88-4fd7-bab6-a5be538ed863",
        "outputId": "40109baa-90b3-4456-b204-1999b67e9c6d"
      },
      "outputs": [
        {
          "data": {
            "text/plain": [
              "array(['ABW', 'AFG', 'AGO', 'ALB', 'ARE', 'ARG', 'ARM', 'ATG', 'AUS',\n",
              "       'AUT', 'AZE', 'BDI', 'BEL', 'BEN', 'BFA', 'BGD', 'BGR', 'BHR',\n",
              "       'BHS', 'BIH', 'BLR', 'BLZ', 'BMU', 'BOL', 'BRA', 'BRB', 'BRN',\n",
              "       'BTN', 'BWA', 'CAF', 'CAN', 'CHE', 'CHL', 'CHN', 'CIV', 'CMR',\n",
              "       'COG', 'COL', 'COM', 'CPV', 'CRI', 'CUB', 'CYM', 'CYP', 'CZE',\n",
              "       'DEU', 'DJI', 'DNK', 'DOM', 'DZA', 'ECU', 'EGY', 'ERI', 'ESP',\n",
              "       'EST', 'ETH', 'FIN', 'FJI', 'FRA', 'FSM', 'GAB', 'GBR', 'GEO',\n",
              "       'GHA', 'GIN', 'GMB', 'GNB', 'GNQ', 'GRC', 'GRD', 'GRL', 'GTM',\n",
              "       'GUM', 'GUY', 'HKG', 'HND', 'HRV', 'HTI', 'HUN', 'IDN', 'IND',\n",
              "       'IRL', 'IRN', 'IRQ', 'ISL', 'ISR', 'ITA', 'JAM', 'JOR', 'JPN',\n",
              "       'KAZ', 'KEN', 'KGZ', 'KHM', 'KIR', 'KOR', 'KWT', 'LAO', 'LBN',\n",
              "       'LBR', 'LBY', 'LCA', 'LIE', 'LKA', 'LSO', 'LTU', 'LUX', 'LVA',\n",
              "       'MAC', 'MAR', 'MDA', 'MDG', 'MDV', 'MEX', 'MKD', 'MLI', 'MLT',\n",
              "       'MMR', 'MNE', 'MNG', 'MOZ', 'MRT', 'MUS', 'MWI', 'MYS', 'NAM',\n",
              "       'NCL', 'NER', 'NGA', 'NIC', 'NLD', 'NOR', 'NPL', 'NZL', 'OMN',\n",
              "       'PAK', 'PAN', 'PER', 'PHL', 'PNG', 'POL', 'PRI', 'PRT', 'PRY',\n",
              "       'PYF', 'QAT', 'ROU', 'RUS', 'RWA', 'SAU', 'SDN', 'SEN', 'SGP',\n",
              "       'SLB', 'SLE', 'SLV', 'SOM', 'SRB', 'SSD', 'STP', 'SUR', 'SVK',\n",
              "       'SVN', 'SWE', 'SWZ', 'SYC', 'SYR', 'TCD', 'TGO', 'THA', 'TJK',\n",
              "       'TKM', 'TLS', 'TON', 'TTO', 'TUN', 'TUR', 'TZA', 'UGA', 'UKR',\n",
              "       'URY', 'USA', 'UZB', 'VCT', 'VEN', 'VIR', 'VNM', 'VUT', 'PSE',\n",
              "       'WSM', 'YEM', 'ZAF', 'COD', 'ZMB', 'ZWE'], dtype=object)"
            ]
          },
          "execution_count": 36,
          "metadata": {},
          "output_type": "execute_result"
        }
      ],
      "source": [
        "df.CountryCode.unique()"
      ]
    },
    {
      "cell_type": "code",
      "execution_count": null,
      "id": "97ff3c06-39ab-45c6-8427-8acf6ca27e11",
      "metadata": {
        "id": "97ff3c06-39ab-45c6-8427-8acf6ca27e11",
        "outputId": "a338c159-739c-4b49-a5dc-905754d5997d"
      },
      "outputs": [
        {
          "data": {
            "text/plain": [
              "195"
            ]
          },
          "execution_count": 37,
          "metadata": {},
          "output_type": "execute_result"
        }
      ],
      "source": [
        "df.CountryCode.nunique()"
      ]
    },
    {
      "cell_type": "code",
      "execution_count": null,
      "id": "db7011bd-23f4-441c-83b8-1e4aed31d85e",
      "metadata": {
        "id": "db7011bd-23f4-441c-83b8-1e4aed31d85e"
      },
      "outputs": [],
      "source": [
        "import matplotlib.pyplot as plt\n",
        "import seaborn as sns\n",
        "\n",
        "%matplotlib inline\n",
        "plt.rcParams['figure.figsize']=6,2"
      ]
    },
    {
      "cell_type": "code",
      "execution_count": null,
      "id": "3a27251b-17c7-4d6d-a7cb-fbabc454b5dd",
      "metadata": {
        "id": "3a27251b-17c7-4d6d-a7cb-fbabc454b5dd",
        "outputId": "9ec08e52-7193-4a7a-cd23-0c548a265f3b"
      },
      "outputs": [
        {
          "data": {
            "text/html": [
              "<div>\n",
              "<style scoped>\n",
              "    .dataframe tbody tr th:only-of-type {\n",
              "        vertical-align: middle;\n",
              "    }\n",
              "\n",
              "    .dataframe tbody tr th {\n",
              "        vertical-align: top;\n",
              "    }\n",
              "\n",
              "    .dataframe thead th {\n",
              "        text-align: right;\n",
              "    }\n",
              "</style>\n",
              "<table border=\"1\" class=\"dataframe\">\n",
              "  <thead>\n",
              "    <tr style=\"text-align: right;\">\n",
              "      <th></th>\n",
              "      <th>CountryName</th>\n",
              "      <th>CountryCode</th>\n",
              "      <th>BirthRate</th>\n",
              "      <th>InternetUsers</th>\n",
              "      <th>IncomeGroup</th>\n",
              "    </tr>\n",
              "  </thead>\n",
              "  <tbody>\n",
              "    <tr>\n",
              "      <th>0</th>\n",
              "      <td>Aruba</td>\n",
              "      <td>ABW</td>\n",
              "      <td>10.244</td>\n",
              "      <td>78.9</td>\n",
              "      <td>High income</td>\n",
              "    </tr>\n",
              "    <tr>\n",
              "      <th>1</th>\n",
              "      <td>Afghanistan</td>\n",
              "      <td>AFG</td>\n",
              "      <td>35.253</td>\n",
              "      <td>5.9</td>\n",
              "      <td>Low income</td>\n",
              "    </tr>\n",
              "    <tr>\n",
              "      <th>2</th>\n",
              "      <td>Angola</td>\n",
              "      <td>AGO</td>\n",
              "      <td>45.985</td>\n",
              "      <td>19.1</td>\n",
              "      <td>Upper middle income</td>\n",
              "    </tr>\n",
              "    <tr>\n",
              "      <th>3</th>\n",
              "      <td>Albania</td>\n",
              "      <td>ALB</td>\n",
              "      <td>12.877</td>\n",
              "      <td>57.2</td>\n",
              "      <td>Upper middle income</td>\n",
              "    </tr>\n",
              "    <tr>\n",
              "      <th>4</th>\n",
              "      <td>United Arab Emirates</td>\n",
              "      <td>ARE</td>\n",
              "      <td>11.044</td>\n",
              "      <td>88.0</td>\n",
              "      <td>High income</td>\n",
              "    </tr>\n",
              "  </tbody>\n",
              "</table>\n",
              "</div>"
            ],
            "text/plain": [
              "            CountryName CountryCode  BirthRate  InternetUsers  \\\n",
              "0                 Aruba         ABW     10.244           78.9   \n",
              "1           Afghanistan         AFG     35.253            5.9   \n",
              "2                Angola         AGO     45.985           19.1   \n",
              "3               Albania         ALB     12.877           57.2   \n",
              "4  United Arab Emirates         ARE     11.044           88.0   \n",
              "\n",
              "           IncomeGroup  \n",
              "0          High income  \n",
              "1           Low income  \n",
              "2  Upper middle income  \n",
              "3  Upper middle income  \n",
              "4          High income  "
            ]
          },
          "execution_count": 39,
          "metadata": {},
          "output_type": "execute_result"
        }
      ],
      "source": [
        "df.head()"
      ]
    },
    {
      "cell_type": "code",
      "execution_count": null,
      "id": "3208361f-5ece-49ad-84bf-f40f8464b380",
      "metadata": {
        "id": "3208361f-5ece-49ad-84bf-f40f8464b380",
        "outputId": "72190f64-4d82-4c01-ebfc-5a20b9edcad4"
      },
      "outputs": [
        {
          "name": "stdout",
          "output_type": "stream",
          "text": [
            "0.9\n",
            "96.5468\n"
          ]
        }
      ],
      "source": [
        "print(df['InternetUsers'].min())\n",
        "print(df['InternetUsers'].max())"
      ]
    },
    {
      "cell_type": "code",
      "execution_count": null,
      "id": "928cea2c-7289-4087-89b4-aae181e0c833",
      "metadata": {
        "id": "928cea2c-7289-4087-89b4-aae181e0c833",
        "outputId": "c3cb7114-c468-4089-b00d-27c07ee89147"
      },
      "outputs": [
        {
          "name": "stderr",
          "output_type": "stream",
          "text": [
            "C:\\Users\\dolas\\AppData\\Local\\Temp\\ipykernel_21928\\705776593.py:1: UserWarning: \n",
            "\n",
            "`distplot` is a deprecated function and will be removed in seaborn v0.14.0.\n",
            "\n",
            "Please adapt your code to use either `displot` (a figure-level function with\n",
            "similar flexibility) or `histplot` (an axes-level function for histograms).\n",
            "\n",
            "For a guide to updating your code to use the new functions, please see\n",
            "https://gist.github.com/mwaskom/de44147ed2974457ad6372750bbe5751\n",
            "\n",
            "  vis1=sns.distplot(df['InternetUsers'])\n"
          ]
        },
        {
          "data": {
            "image/png": "[encoded data removed]",
            "text/plain": [
              "<Figure size 600x200 with 1 Axes>"
            ]
          },
          "metadata": {},
          "output_type": "display_data"
        }
      ],
      "source": [
        "vis1=sns.distplot(df['InternetUsers'])"
      ]
    },
    {
      "cell_type": "code",
      "execution_count": null,
      "id": "562db579-194b-4461-a04f-216480084aba",
      "metadata": {
        "id": "562db579-194b-4461-a04f-216480084aba",
        "outputId": "7f271682-b59f-4cce-af69-125618f9ab9a"
      },
      "outputs": [
        {
          "name": "stderr",
          "output_type": "stream",
          "text": [
            "C:\\Users\\dolas\\AppData\\Local\\Temp\\ipykernel_21928\\134058024.py:1: UserWarning: \n",
            "\n",
            "`distplot` is a deprecated function and will be removed in seaborn v0.14.0.\n",
            "\n",
            "Please adapt your code to use either `displot` (a figure-level function with\n",
            "similar flexibility) or `histplot` (an axes-level function for histograms).\n",
            "\n",
            "For a guide to updating your code to use the new functions, please see\n",
            "https://gist.github.com/mwaskom/de44147ed2974457ad6372750bbe5751\n",
            "\n",
            "  vis2=sns.distplot(df['BirthRate'])\n"
          ]
        },
        {
          "data": {
            "image/png": "[encoded data removed]",
            "text/plain": [
              "<Figure size 600x200 with 1 Axes>"
            ]
          },
          "metadata": {},
          "output_type": "display_data"
        }
      ],
      "source": [
        "vis2=sns.distplot(df['BirthRate'])"
      ]
    },
    {
      "cell_type": "code",
      "execution_count": null,
      "id": "682c4dc1-5a0e-44d1-b742-bf33c3c6ca51",
      "metadata": {
        "id": "682c4dc1-5a0e-44d1-b742-bf33c3c6ca51",
        "outputId": "aca00d12-23c7-41a3-ac1e-02e3828837f6"
      },
      "outputs": [
        {
          "data": {
            "image/png": "[encoded data removed]",
            "text/plain": [
              "<Figure size 500x500 with 1 Axes>"
            ]
          },
          "metadata": {},
          "output_type": "display_data"
        }
      ],
      "source": [
        "vis2=sns.displot(df['InternetUsers'])"
      ]
    },
    {
      "cell_type": "code",
      "execution_count": null,
      "id": "c67c97cb-07fb-49f5-a418-cc15f4d581f9",
      "metadata": {
        "id": "c67c97cb-07fb-49f5-a418-cc15f4d581f9",
        "outputId": "24afe1de-5f64-4063-8948-03ed90b71fb8"
      },
      "outputs": [
        {
          "name": "stderr",
          "output_type": "stream",
          "text": [
            "C:\\Users\\dolas\\AppData\\Local\\Temp\\ipykernel_21928\\2152753721.py:1: UserWarning: \n",
            "\n",
            "`distplot` is a deprecated function and will be removed in seaborn v0.14.0.\n",
            "\n",
            "Please adapt your code to use either `displot` (a figure-level function with\n",
            "similar flexibility) or `histplot` (an axes-level function for histograms).\n",
            "\n",
            "For a guide to updating your code to use the new functions, please see\n",
            "https://gist.github.com/mwaskom/de44147ed2974457ad6372750bbe5751\n",
            "\n",
            "  vis3=sns.distplot(df['InternetUsers'],bins=12)\n"
          ]
        },
        {
          "data": {
            "image/png": "[encoded data removed]",
            "text/plain": [
              "<Figure size 600x200 with 1 Axes>"
            ]
          },
          "metadata": {},
          "output_type": "display_data"
        }
      ],
      "source": [
        "vis3=sns.distplot(df['InternetUsers'],bins=12)"
      ]
    },
    {
      "cell_type": "code",
      "execution_count": null,
      "id": "45ae8c81-0077-468d-9d6a-53a810f3abc9",
      "metadata": {
        "id": "45ae8c81-0077-468d-9d6a-53a810f3abc9"
      },
      "outputs": [],
      "source": [
        "import warnings\n",
        "warnings.filterwarnings(\"ignore\")\n"
      ]
    },
    {
      "cell_type": "code",
      "execution_count": null,
      "id": "02a25be1-4763-44ed-9b65-0c22a6e3beb0",
      "metadata": {
        "id": "02a25be1-4763-44ed-9b65-0c22a6e3beb0",
        "outputId": "47ed9862-d31b-4b57-aed2-3c96ecba3367"
      },
      "outputs": [
        {
          "data": {
            "image/png": "[encoded data removed]",
            "text/plain": [
              "<Figure size 600x200 with 1 Axes>"
            ]
          },
          "metadata": {},
          "output_type": "display_data"
        }
      ],
      "source": [
        "vis4=sns.boxplot(data=df,x=\"IncomeGroup\",y=\"BirthRate\")"
      ]
    },
    {
      "cell_type": "code",
      "execution_count": null,
      "id": "27aba1f2-ffb9-4a5b-b001-b7b1b63a7ff0",
      "metadata": {
        "id": "27aba1f2-ffb9-4a5b-b001-b7b1b63a7ff0",
        "outputId": "0c078ff4-2a9f-462e-fbf9-7e0f3649ad8c"
      },
      "outputs": [
        {
          "data": {
            "image/png": "[encoded data removed]",
            "text/plain": [
              "<Figure size 699.125x500 with 1 Axes>"
            ]
          },
          "metadata": {},
          "output_type": "display_data"
        }
      ],
      "source": [
        "vis5=sns.lmplot(data=df,x=\"InternetUsers\",y=\"BirthRate\",\n",
        "                fit_reg=False,hue=\"IncomeGroup\")"
      ]
    },
    {
      "cell_type": "code",
      "execution_count": null,
      "id": "09e2de18-c031-41b1-aaf4-47ab612ccc5d",
      "metadata": {
        "id": "09e2de18-c031-41b1-aaf4-47ab612ccc5d",
        "outputId": "867e1d24-f87c-4831-a16e-64d8582570d9"
      },
      "outputs": [
        {
          "data": {
            "image/png": "[encoded data removed]",
            "text/plain": [
              "<Figure size 699.125x500 with 1 Axes>"
            ]
          },
          "metadata": {},
          "output_type": "display_data"
        }
      ],
      "source": [
        "vis5=sns.lmplot(data=df,x=\"InternetUsers\",y=\"BirthRate\",\n",
        "                fit_reg=True,hue=\"IncomeGroup\")"
      ]
    },
    {
      "cell_type": "code",
      "execution_count": null,
      "id": "a4dfe65f-3673-4387-9dbc-1606da20020e",
      "metadata": {
        "id": "a4dfe65f-3673-4387-9dbc-1606da20020e"
      },
      "outputs": [],
      "source": []
    }
  ],
  "metadata": {
    "kernelspec": {
      "display_name": "Python 3 (ipykernel)",
      "language": "python",
      "name": "python3"
    },
    "language_info": {
      "codemirror_mode": {
        "name": "ipython",
        "version": 3
      },
      "file_extension": ".py",
      "mimetype": "text/x-python",
      "name": "python",
      "nbconvert_exporter": "python",
      "pygments_lexer": "ipython3",
      "version": "3.12.7"
    },
    "colab": {
      "provenance": [],
      "include_colab_link": true
    }
  },
  "nbformat": 4,
  "nbformat_minor": 5
}